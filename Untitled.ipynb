{
 "cells": [
  {
   "cell_type": "code",
   "execution_count": 10,
   "id": "25eef617",
   "metadata": {},
   "outputs": [
    {
     "data": {
      "text/plain": [
       "[<a href=\"javascript:$get('ReportViewer1_AsyncWait').control._cancelCurrentPostback();\" style=\"color:#3366CC;\"><font face=\"Verdana\" size=\"1\">Cancelar</font></a>,\n",
       " <a alt=\"Menú desplegable de exportación\" href=\"javascript:void(0)\" id=\"ReportViewer1_ctl05_ctl04_ctl00_ButtonLink\" style=\"text-decoration:none;\" title=\"Menú desplegable de exportación\"><img alt=\"Menú desplegable de exportación\" border=\"0\" height=\"16\" id=\"ReportViewer1_ctl05_ctl04_ctl00_ButtonImg\" src=\"/precio/Reserved.ReportViewerWebControl.axd?OpType=Resource&amp;Version=11.0.3452.0&amp;Name=Microsoft.Reporting.WebForms.Icons.ExportDisabled.gif\" width=\"16\"/><span style=\"width:5px;text-decoration:none;\"> </span><img alt=\"Menú desplegable de exportación\" border=\"0\" height=\"6\" id=\"ReportViewer1_ctl05_ctl04_ctl00_ButtonImgDown\" src=\"/precio/Reserved.ReportViewerWebControl.axd?OpType=Resource&amp;Version=11.0.3452.0&amp;Name=Microsoft.Reporting.WebForms.Icons.ArrowDownDisabled.gif\" style=\"margin-bottom:5px;\" width=\"7\"/></a>,\n",
       " <a alt=\"Excel\" href=\"javascript:void(0)\" onclick=\"$find('ReportViewer1').exportReport('EXCELOPENXML');\" style=\"padding:3px 8px 3px 8px;display:block;white-space:nowrap;text-decoration:none;\" title=\"Excel\"><font color=\"#3366CC\" face=\"Verdana\" size=\"1\">Excel</font></a>,\n",
       " <a alt=\"PDF\" href=\"javascript:void(0)\" onclick=\"$find('ReportViewer1').exportReport('PDF');\" style=\"padding:3px 8px 3px 8px;display:block;white-space:nowrap;text-decoration:none;\" title=\"PDF\"><font color=\"#3366CC\" face=\"Verdana\" size=\"1\">PDF</font></a>,\n",
       " <a alt=\"Word\" href=\"javascript:void(0)\" onclick=\"$find('ReportViewer1').exportReport('WORDOPENXML');\" style=\"padding:3px 8px 3px 8px;display:block;white-space:nowrap;text-decoration:none;\" title=\"Word\"><font color=\"#3366CC\" face=\"Verdana\" size=\"1\">Word</font></a>]"
      ]
     },
     "execution_count": 10,
     "metadata": {},
     "output_type": "execute_result"
    }
   ],
   "source": [
    "import requests\n",
    "from bs4 import BeautifulSoup\n",
    "import urllib\n",
    "\n",
    "url = 'http://app.subastar.com.co/precio/'\n",
    "response = requests.get(url)\n",
    "soup = BeautifulSoup(response.text, 'html.parser')\n",
    "\n",
    "soup.find_all()\n",
    "   \n",
    "\n",
    "        \n"
   ]
  }
 ],
 "metadata": {
  "kernelspec": {
   "display_name": "Python 3 (ipykernel)",
   "language": "python",
   "name": "python3"
  },
  "language_info": {
   "codemirror_mode": {
    "name": "ipython",
    "version": 3
   },
   "file_extension": ".py",
   "mimetype": "text/x-python",
   "name": "python",
   "nbconvert_exporter": "python",
   "pygments_lexer": "ipython3",
   "version": "3.9.12"
  }
 },
 "nbformat": 4,
 "nbformat_minor": 5
}
